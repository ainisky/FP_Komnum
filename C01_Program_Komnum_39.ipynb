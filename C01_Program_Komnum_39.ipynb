{
  "nbformat": 4,
  "nbformat_minor": 0,
  "metadata": {
    "colab": {
      "provenance": [],
      "authorship_tag": "ABX9TyN+5mxesxaZHpz7b5E8NT/1",
      "include_colab_link": true
    },
    "kernelspec": {
      "name": "python3",
      "display_name": "Python 3"
    },
    "language_info": {
      "name": "python"
    }
  },
  "cells": [
    {
      "cell_type": "markdown",
      "metadata": {
        "id": "view-in-github",
        "colab_type": "text"
      },
      "source": [
        "<a href=\"https://colab.research.google.com/github/ainisky/FP_Komnum/blob/main/C01_Program_Komnum_39.ipynb\" target=\"_parent\"><img src=\"https://colab.research.google.com/assets/colab-badge.svg\" alt=\"Open In Colab\"/></a>"
      ]
    },
    {
      "cell_type": "code",
      "execution_count": 13,
      "metadata": {
        "colab": {
          "base_uri": "https://localhost:8080/"
        },
        "id": "P5RdJGJ51w2D",
        "outputId": "7b4f5a08-6225-4b8f-e3e8-419a01658ccb"
      },
      "outputs": [
        {
          "output_type": "stream",
          "name": "stdout",
          "text": [
            "Hasil Simpson 3/8: 6841344.0\n",
            "ET: 130867.2\n"
          ]
        }
      ],
      "source": [
        "#5025241233_Rifat Qurratu Aini Irwandi\n",
        "#5025241235_Shafira Nauraishma Zahida\n",
        "#5025241240_Mayandra Suhaira Frisiandi\n",
        "\n",
        "import numpy as np\n",
        "\n",
        "def f(x):\n",
        "    return 3 * x**5 - 8 * x**4\n",
        "\n",
        "def simpson_3_8(a, b):\n",
        "    h = (b - a) / 3  # n = 3\n",
        "    x0 = a\n",
        "    x1 = a + h\n",
        "    x2 = a + 2*h\n",
        "    x3 = b\n",
        "\n",
        "    result = ((b - a) * (f(x0) + 3*f(x1) + 3*f(x2) + f(x3))) / 8\n",
        "    return result\n",
        "\n",
        "def f_deriv4(x):\n",
        "    return 360 * x - 192\n",
        "\n",
        "def estimated_error(a, b):\n",
        "    xi = (a + b) / 2\n",
        "    fourth_derivative = f_deriv4(xi)\n",
        "    error = -((b - a)**5 / 6480) * fourth_derivative\n",
        "    return abs(error)\n",
        "\n",
        "a = 4\n",
        "b = 16\n",
        "\n",
        "hasil = simpson_3_8(a, b)\n",
        "print(f\"Hasil Simpson 3/8: {hasil}\")\n",
        "\n",
        "et = estimated_error(a, b)\n",
        "print(f\"ET: {et}\")"
      ]
    }
  ]
}
